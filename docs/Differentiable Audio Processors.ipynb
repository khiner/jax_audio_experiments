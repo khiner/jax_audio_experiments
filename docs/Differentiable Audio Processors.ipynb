{
 "cells": [
  {
   "cell_type": "code",
   "execution_count": null,
   "metadata": {},
   "outputs": [],
   "source": [
    "!python --version"
   ]
  },
  {
   "cell_type": "code",
   "execution_count": null,
   "metadata": {},
   "outputs": [],
   "source": [
    "import jax.numpy as jnp\n",
    "from scipy import signal\n",
    "import numpy as np\n",
    "import time\n",
    "\n",
    "from jaxdsp.training import train, evaluate\n",
    "from jaxdsp.processors import fir_filter, iir_filter, clip, delay_line, lowpass_feedback_comb_filter as lbcf, allpass_filter, freeverb, serial_processors\n",
    "from jaxdsp.plotting import plot_filter, plot_loss, plot_params, plot_optimization\n",
    "from jaxdsp.training import train, evaluate"
   ]
  },
  {
   "cell_type": "code",
   "execution_count": null,
   "metadata": {},
   "outputs": [],
   "source": [
    "def array_with_one_at(i, size):\n",
    "    ar = np.zeros(size)\n",
    "    ar[i] = 1.0\n",
    "    return ar"
   ]
  },
  {
   "cell_type": "code",
   "execution_count": null,
   "metadata": {},
   "outputs": [],
   "source": [
    "step_size = 0.3\n",
    "n_batches = 100\n",
    "batch_size = 2\n",
    "n_train = 100\n",
    "samples_per_second = 44_100\n",
    "n_samples = 200 # 4 * samples_per_second\n",
    "Xs_random = np.random.randn(n_train, n_samples)\n",
    "Xs_unit = np.array([array_with_one_at(i, n_samples) for i in range(n_train)])\n",
    "Xs_chirp = np.array(np.split(signal.chirp(np.linspace(0, 10, n_train * n_samples), f0=300, f1=1, t1=10), n_train))\n",
    "#Xs_chirp = np.ones((n_train,1)) * signal.chirp(np.linspace(0, 10, n_samples), f0=10, f1=1, t1=10)"
   ]
  },
  {
   "cell_type": "code",
   "execution_count": null,
   "metadata": {},
   "outputs": [],
   "source": [
    "def evaluate_processors(processors, Xs=Xs_chirp, reference_fn=None,\n",
    "                        plot_loss_history=True, plot_params_history=True):\n",
    "    start = time.time()\n",
    "    params_estimated, params_target, params_history, loss_history = train(processors, Xs, step_size=step_size, num_batches=n_batches, batch_size=batch_size)\n",
    "    print('Train time: {:.3E} s'.format(time.time() - start))\n",
    "    print('Loss: {:.3E}'.format(loss_history[-1]))\n",
    "    X_eval = Xs[0]\n",
    "    carry_estimated = {'params': params_estimated, 'state': serial_processors.init_state(processors)}\n",
    "    carry_target = {'params': params_target, 'state': serial_processors.init_state(processors)}\n",
    "    Y_estimated, Y_target = evaluate(carry_estimated, carry_target, serial_processors, X_eval)\n",
    "    Y_reference = reference_fn(X_eval, params_target) if reference_fn is not None else None\n",
    "\n",
    "    print(params_estimated)\n",
    "    if plot_loss_history:\n",
    "        plot_loss(loss_history)\n",
    "    if plot_params_history:\n",
    "        plot_params(params_target, params_history)\n",
    "    title = ' + '.join(processor.NAME for processor in processors)\n",
    "    plot_filter(X_eval, Y_target, Y_reference, Y_estimated, title)"
   ]
  },
  {
   "cell_type": "code",
   "execution_count": null,
   "metadata": {},
   "outputs": [],
   "source": [
    "evaluate_processors([freeverb])"
   ]
  },
  {
   "cell_type": "markdown",
   "metadata": {},
   "source": [
    "Batch size timing notes:\n",
    "\n",
    "    Batch size: 1, step size: 0.3\n",
    "    Train time: 3.078E+01 s\n",
    "    Loss: 9.079E-16\n",
    "    \n",
    "    Batch size: 2, step size: 0.3\n",
    "    Train time: 3.591E+01 s\n",
    "    Loss: 4.967E-14\n",
    "    \n",
    "    Batch size: 4, step size: 0.3\n",
    "    Train time: 3.829E+01 s\n",
    "    Loss: 3.683E-14\n",
    "\n",
    "    Batch size: 4, step size: 0.4\n",
    "    Train time: 3.989E+01 s\n",
    "    Loss: 1.124E-14"
   ]
  },
  {
   "cell_type": "code",
   "execution_count": null,
   "metadata": {
    "scrolled": true
   },
   "outputs": [],
   "source": [
    "evaluate_processors([lbcf])"
   ]
  },
  {
   "cell_type": "code",
   "execution_count": null,
   "metadata": {},
   "outputs": [],
   "source": [
    "evaluate_processors([allpass_filter])"
   ]
  },
  {
   "cell_type": "code",
   "execution_count": null,
   "metadata": {},
   "outputs": [],
   "source": [
    "evaluate_processors([delay_line])"
   ]
  },
  {
   "cell_type": "code",
   "execution_count": null,
   "metadata": {},
   "outputs": [],
   "source": [
    "evaluate_processors([fir_filter], reference_fn=lambda X, params: signal.lfilter(params[fir_filter.NAME]['B'], [1.0], X))"
   ]
  },
  {
   "cell_type": "code",
   "execution_count": null,
   "metadata": {},
   "outputs": [],
   "source": [
    "evaluate_processors([iir_filter], reference_fn=lambda X, params: signal.lfilter(params[iir_filter.NAME]['B'], params[iir_filter.NAME]['A'], X), plot_params_history=False)"
   ]
  },
  {
   "cell_type": "code",
   "execution_count": null,
   "metadata": {},
   "outputs": [],
   "source": [
    "evaluate_processors([clip], reference_fn=lambda X, params: np.clip(X, params[clip.NAME]['min'], params[clip.NAME]['max']))"
   ]
  },
  {
   "cell_type": "code",
   "execution_count": null,
   "metadata": {},
   "outputs": [],
   "source": [
    "evaluate_processors([iir_filter, clip])"
   ]
  },
  {
   "cell_type": "markdown",
   "metadata": {},
   "source": [
    "## Non-batch training example"
   ]
  },
  {
   "cell_type": "code",
   "execution_count": null,
   "metadata": {},
   "outputs": [],
   "source": [
    "from jaxdsp.training import train_init, train_step, params_from_train_state\n",
    "\n",
    "processor = lbcf\n",
    "Xs = Xs_chirp\n",
    "carry_target = {'params': processor.default_target_params(), 'state': processor.init_state()}\n",
    "train_state = train_init(processor, processor.init_params())\n",
    "for _ in range(100):\n",
    "    X = Xs[np.random.randint(Xs.shape[0])]\n",
    "    carry_target, Y_target = processor.tick_buffer(carry_target, X)\n",
    "    train_state = train_step(X, Y_target, *train_state)\n",
    "\n",
    "params_from_train_state(*train_state)"
   ]
  },
  {
   "cell_type": "code",
   "execution_count": null,
   "metadata": {},
   "outputs": [],
   "source": [
    "param_inits = [{'delay_samples': delay_samples, 'wet_amount': 1.0} for delay_samples in np.linspace(3, 10, 50)]\n",
    "params_target = {'wet_amount': 1.0, 'delay_samples': 7.0}\n",
    "# plot_optimization(delay_line, Xs_chirp, param_inits, params_target)"
   ]
  },
  {
   "cell_type": "code",
   "execution_count": null,
   "metadata": {},
   "outputs": [],
   "source": [
    "# TODO: verify Lagrange interpolation converges over a 4-sample range"
   ]
  },
  {
   "cell_type": "markdown",
   "metadata": {},
   "source": [
    "## Implementing Freeverb\n",
    "\n",
    "From [Physical Audio Signal Processing](https://ccrma.stanford.edu/~jos/pasp/Freeverb.html):\n",
    "\n",
    "![](https://ccrma.stanford.edu/~jos/pasp/img728_2x.png)\n",
    "\n",
    "It is composed of [lowpass feedback comb filters](https://ccrma.stanford.edu/~jos/pasp/Lowpass_Feedback_Comb_Filter.html) and [Schroeder allpass sections](https://ccrma.stanford.edu/~jos/pasp/Schroeder_Allpass_Sections.html).\n",
    "\n",
    "In order to implement Freeverb in a differentiable way, I will use plain IIR filters for each component. (Note that this is extremely inefficient compared with the direct implementation of the difference equation.) (See issues in differentiable parameterizing of delay line length above.)\n",
    "\n",
    "\n",
    "$H_{AP}(z)= \\dfrac{X(z)}{Y(z)} =\\dfrac{g^∗+z^{−m}}{1+gz^{−m}}$\n",
    "\n",
    "$\\begin{align}\n",
    "H_{LBCF}(z) &= \\dfrac{z^{-N}}{1-f\\frac{1-d}{1-dz^{-1}}z^{-N}}\\\\\n",
    "&= \\dfrac{z^{-N}}{\\frac{1-dz^{-1}-f(1-d)z^{-N}}{1-dz^{-1}}}\\\\\n",
    "&= \\dfrac{z^{-N}(1-dz^{-1})}{1-dz^{-1}-f(1-d)z^{-N}}\\\\\n",
    "&= \\dfrac{-dz^{-N-1}+z^{-N}}{1-dz^{-1}-f(1-d)z^{-N}}\\\\\n",
    "\\end{align}$\n",
    "\n",
    "TODO: verify the behavior is identical"
   ]
  }
 ],
 "metadata": {
  "kernelspec": {
   "display_name": "Python 3",
   "language": "python",
   "name": "python3"
  },
  "language_info": {
   "codemirror_mode": {
    "name": "ipython",
    "version": 3
   },
   "file_extension": ".py",
   "mimetype": "text/x-python",
   "name": "python",
   "nbconvert_exporter": "python",
   "pygments_lexer": "ipython3",
   "version": "3.9.1"
  }
 },
 "nbformat": 4,
 "nbformat_minor": 4
}
