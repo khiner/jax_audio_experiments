{
 "cells": [
  {
   "cell_type": "code",
   "execution_count": null,
   "metadata": {},
   "outputs": [],
   "source": [
    "!python --version\n",
    "%pip install jax jaxlib --upgrade"
   ]
  },
  {
   "cell_type": "code",
   "execution_count": null,
   "metadata": {},
   "outputs": [],
   "source": [
    "import jax.numpy as jnp\n",
    "from scipy import signal\n",
    "import numpy as np\n",
    "import time\n",
    "\n",
    "from jaxdsp import config, training\n",
    "from jaxdsp.processors import fir_filter, iir_filter, clip, delay_line, lowpass_feedback_comb_filter as lbcf, allpass_filter, freeverb, sine_wave, serial_processors\n",
    "from jaxdsp.plotting import plot_filter, plot_loss, plot_params, plot_optimization\n",
    "import jaxdsp.loss"
   ]
  },
  {
   "cell_type": "code",
   "execution_count": null,
   "metadata": {},
   "outputs": [],
   "source": [
    "def array_with_one_at(i, size):\n",
    "    ar = np.zeros(size)\n",
    "    ar[i] = 1.0\n",
    "    return ar"
   ]
  },
  {
   "cell_type": "code",
   "execution_count": null,
   "metadata": {},
   "outputs": [],
   "source": [
    "step_size = 1.0\n",
    "num_batches = 100\n",
    "num_train = 100\n",
    "Xs_random = np.random.randn(num_train, config.buffer_size)\n",
    "Xs_unit = np.array([array_with_one_at(i, config.buffer_size) for i in range(num_train)])\n",
    "Xs_chirp = np.array(np.split(signal.chirp(np.linspace(0, 10, num_train * config.buffer_size), f0=300, f1=1, t1=10), num_train))\n",
    "#Xs_chirp = np.ones((n_train,1)) * signal.chirp(np.linspace(0, 10, n_samples), f0=10, f1=1, t1=10)"
   ]
  },
  {
   "cell_type": "code",
   "execution_count": null,
   "metadata": {},
   "outputs": [],
   "source": [
    "def evaluate_processors(processor, processor_config=None, loss_fn=jaxdsp.loss.mse, Xs=Xs_chirp, reference_fn=None,\n",
    "                        plot_loss_history=True, plot_params_history=True, title=None):\n",
    "    processor_config = processor_config or processor.config()\n",
    "    carry_target = {'params': processor_config.params_target, 'state': processor_config.state_init}\n",
    "    trainer = training.IterativeTrainer(processor, training.Config(loss_fn=loss_fn, step_size=step_size),\n",
    "                                        processor_config, track_history=True)\n",
    "    start = time.time()\n",
    "    for i in range(num_batches):\n",
    "        X = Xs[i % Xs.shape[0]]\n",
    "        carry_target, Y_target = processor.tick_buffer(carry_target, X)\n",
    "        trainer.step(X, Y_target)\n",
    "\n",
    "    params_estimated = trainer.params()\n",
    "    carry_estimated = {'params': params_estimated, 'state': trainer.processor_state}\n",
    "    params_target = carry_target['params']\n",
    "\n",
    "    print('Train time: {:.3E} s'.format(time.time() - start))\n",
    "    print('Loss: {:.3E}'.format(trainer.loss))\n",
    "    print('Estimated params: ', params_estimated)\n",
    "\n",
    "    X_eval = Xs[0]\n",
    "    Y_estimated, Y_target = training.evaluate(carry_estimated, carry_target, processor, X_eval)\n",
    "    Y_reference = reference_fn(X_eval, params_target) if reference_fn is not None else None\n",
    "\n",
    "    if plot_loss_history:\n",
    "        plot_loss(trainer.step_evaluator.loss_history)\n",
    "    if plot_params_history:\n",
    "        plot_params(params_target, trainer.step_evaluator.params_history)\n",
    "    plot_filter(X_eval, Y_target, Y_reference, Y_estimated, title)"
   ]
  },
  {
   "cell_type": "code",
   "execution_count": null,
   "metadata": {},
   "outputs": [],
   "source": [
    "evaluate_processors(sine_wave, loss_fn=jaxdsp.loss.spectral)"
   ]
  },
  {
   "cell_type": "code",
   "execution_count": null,
   "metadata": {},
   "outputs": [],
   "source": [
    "# evaluate_processors([freeverb])"
   ]
  },
  {
   "cell_type": "code",
   "execution_count": null,
   "metadata": {
    "scrolled": true
   },
   "outputs": [],
   "source": [
    "evaluate_processors(serial_processors, serial_processors.config([lbcf]), title=lbcf.NAME)"
   ]
  },
  {
   "cell_type": "code",
   "execution_count": null,
   "metadata": {},
   "outputs": [],
   "source": [
    "evaluate_processors(serial_processors, serial_processors.config([lbcf]), title=lbcf.NAME)"
   ]
  },
  {
   "cell_type": "code",
   "execution_count": null,
   "metadata": {},
   "outputs": [],
   "source": [
    "evaluate_processors([allpass_filter])"
   ]
  },
  {
   "cell_type": "code",
   "execution_count": null,
   "metadata": {},
   "outputs": [],
   "source": [
    "evaluate_processors([delay_line])"
   ]
  },
  {
   "cell_type": "code",
   "execution_count": null,
   "metadata": {},
   "outputs": [],
   "source": [
    "evaluate_processors([fir_filter], reference_fn=lambda X, params: signal.lfilter(params[fir_filter.NAME]['B'], [1.0], X))"
   ]
  },
  {
   "cell_type": "code",
   "execution_count": null,
   "metadata": {},
   "outputs": [],
   "source": [
    "evaluate_processors([iir_filter], reference_fn=lambda X, params: signal.lfilter(params[iir_filter.NAME]['B'], params[iir_filter.NAME]['A'], X), plot_params_history=False)"
   ]
  },
  {
   "cell_type": "code",
   "execution_count": null,
   "metadata": {},
   "outputs": [],
   "source": [
    "evaluate_processors([clip], reference_fn=lambda X, params: np.clip(X, params[clip.NAME]['min'], params[clip.NAME]['max']))"
   ]
  },
  {
   "cell_type": "code",
   "execution_count": null,
   "metadata": {},
   "outputs": [],
   "source": [
    "evaluate_processors([iir_filter, clip])"
   ]
  },
  {
   "cell_type": "markdown",
   "metadata": {},
   "source": [
    "## Non-batch training example"
   ]
  },
  {
   "cell_type": "code",
   "execution_count": null,
   "metadata": {},
   "outputs": [],
   "source": [
    "from jaxdsp import training\n",
    "from jax import jit, lax\n",
    "\n",
    "processor = serial_processors\n",
    "processor_config = processor.config([lbcf])\n",
    "Xs = Xs_chirp\n",
    "carry_target = {'params': processor_config.params_target, 'state': processor_config.state_init}\n",
    "trainer = training.IterativeTrainer(processor, training.Config(step_size=0.1), processor_config, track_history=True)\n",
    "for i in range(200):\n",
    "    X = Xs[i % Xs.shape[0]]\n",
    "    carry_target, Y_target = processor.tick_buffer(carry_target, X)\n",
    "    trainer.step(X, Y_target)\n",
    "\n",
    "trainer.params_and_loss()"
   ]
  },
  {
   "cell_type": "code",
   "execution_count": null,
   "metadata": {},
   "outputs": [],
   "source": [
    "param_inits = [{'frequency_hz': freq, 'phase': 0.0} for freq in np.linspace(100, 140, 50)]\n",
    "params_target = {'frequency_hz': 120.0, 'phase': 0.0}\n",
    "plot_optimization(sine_wave, Xs_chirp, param_inits, params_target, 'frequency_hz', 10)"
   ]
  },
  {
   "cell_type": "code",
   "execution_count": null,
   "metadata": {},
   "outputs": [],
   "source": [
    "# TODO: verify Lagrange interpolation converges over a 4-sample range"
   ]
  },
  {
   "cell_type": "markdown",
   "metadata": {},
   "source": [
    "## Implementing Freeverb\n",
    "\n",
    "From [Physical Audio Signal Processing](https://ccrma.stanford.edu/~jos/pasp/Freeverb.html):\n",
    "\n",
    "![](https://ccrma.stanford.edu/~jos/pasp/img728_2x.png)\n",
    "\n",
    "It is composed of [lowpass feedback comb filters](https://ccrma.stanford.edu/~jos/pasp/Lowpass_Feedback_Comb_Filter.html) and [Schroeder allpass sections](https://ccrma.stanford.edu/~jos/pasp/Schroeder_Allpass_Sections.html).\n",
    "\n",
    "In order to implement Freeverb in a differentiable way, I will use plain IIR filters for each component. (Note that this is extremely inefficient compared with the direct implementation of the difference equation.) (See issues in differentiable parameterizing of delay line length above.)\n",
    "\n",
    "\n",
    "$H_{AP}(z)= \\dfrac{X(z)}{Y(z)} =\\dfrac{g^∗+z^{−m}}{1+gz^{−m}}$\n",
    "\n",
    "$\\begin{align}\n",
    "H_{LBCF}(z) &= \\dfrac{z^{-N}}{1-f\\frac{1-d}{1-dz^{-1}}z^{-N}}\\\\\n",
    "&= \\dfrac{z^{-N}}{\\frac{1-dz^{-1}-f(1-d)z^{-N}}{1-dz^{-1}}}\\\\\n",
    "&= \\dfrac{z^{-N}(1-dz^{-1})}{1-dz^{-1}-f(1-d)z^{-N}}\\\\\n",
    "&= \\dfrac{-dz^{-N-1}+z^{-N}}{1-dz^{-1}-f(1-d)z^{-N}}\\\\\n",
    "\\end{align}$\n",
    "\n",
    "TODO: verify the behavior is identical"
   ]
  },
  {
   "cell_type": "code",
   "execution_count": null,
   "metadata": {},
   "outputs": [],
   "source": [
    "# http://devmaster.net/forums/topic/4648-fast-and-accurate-sinecosine/\n",
    "def sine_approx(x):\n",
    "    y = 4/np.pi * x - 4/(np.pi**2) * x * np.abs(x)\n",
    "    return y * (0.225 * (np.abs(y) - 1) + 1)"
   ]
  },
  {
   "cell_type": "code",
   "execution_count": null,
   "metadata": {},
   "outputs": [],
   "source": [
    "from matplotlib import pyplot as plt\n",
    "\n",
    "x = np.linspace(0, 20, 100) % (2 * np.pi) - np.pi\n",
    "plt.plot(sine_approx(x))\n",
    "plt.plot(np.sin(x))"
   ]
  },
  {
   "cell_type": "code",
   "execution_count": null,
   "metadata": {},
   "outputs": [],
   "source": [
    "plt.plot(np.abs(jnp.fft.rfft(jnp.sin(jnp.linspace(-np.pi, np.pi, 50, True)))) / 50)"
   ]
  },
  {
   "cell_type": "code",
   "execution_count": null,
   "metadata": {},
   "outputs": [],
   "source": [
    "from jax.tree_util import tree_map, tree_multimap\n",
    "\n",
    "params_init = {'hi': 1.0, 'bye': {'dry': 4}}\n",
    "params_history = tree_map(lambda param: [param], params_init)\n",
    "new_params = {'hi': 2.0, 'bye': {'dry': 5}}\n",
    "params_history = tree_multimap(lambda h, param: param + [h], new_params, params_history)\n",
    "new_params = {'hi': 3.0, 'bye': {'dry': 6}}\n",
    "params_history = tree_multimap(lambda h, param: param + [h], new_params, params_history)"
   ]
  },
  {
   "cell_type": "code",
   "execution_count": null,
   "metadata": {},
   "outputs": [],
   "source": [
    "params_history"
   ]
  },
  {
   "cell_type": "code",
   "execution_count": null,
   "metadata": {},
   "outputs": [],
   "source": []
  }
 ],
 "metadata": {
  "kernelspec": {
   "display_name": "Python 3",
   "language": "python",
   "name": "python3"
  },
  "language_info": {
   "codemirror_mode": {
    "name": "ipython",
    "version": 3
   },
   "file_extension": ".py",
   "mimetype": "text/x-python",
   "name": "python",
   "nbconvert_exporter": "python",
   "pygments_lexer": "ipython3",
   "version": "3.9.1"
  }
 },
 "nbformat": 4,
 "nbformat_minor": 4
}
