{
 "cells": [
  {
   "cell_type": "code",
   "execution_count": null,
   "metadata": {},
   "outputs": [],
   "source": [
    "import numpy as np\n",
    "import jax.numpy as jnp\n",
    "from scipy import signal"
   ]
  },
  {
   "cell_type": "code",
   "execution_count": null,
   "metadata": {},
   "outputs": [],
   "source": [
    "from jaxdsp.ddsp import spectral_ops\n",
    "\n",
    "amp = 1e-2\n",
    "audio = amp * (np.random.rand(64000).astype(np.float32) * 2.0 - 1.0)\n",
    "frame_size = 2048\n",
    "hop_size = 128\n",
    "overlap = 1.0 - float(hop_size) / frame_size\n",
    "pad_end = True\n",
    "\n",
    "s_np = signal.stft(audio,\n",
    "                   nperseg=int(frame_size),\n",
    "                   noverlap=int(overlap),\n",
    "                   nfft=int(frame_size),\n",
    "                   padded=pad_end)\n",
    "s_jdsp = spectral_ops.stft(audio, frame_size=frame_size, overlap=overlap, pad_end=pad_end)\n",
    "\n",
    "np.allclose(s_np[0], s_jdsp[0]), np.allclose(s_np[1], s_jdsp[1]), np.allclose(s_np[2], s_jdsp[2])"
   ]
  },
  {
   "cell_type": "code",
   "execution_count": null,
   "metadata": {},
   "outputs": [],
   "source": [
    "import jaxdsp.loss\n",
    "\n",
    "input_audio = jnp.zeros((2, 8000))\n",
    "target_audio = jnp.ones((2, 8000))\n",
    "\n",
    "loss_value = jaxdsp.loss.spectral(input_audio, target_audio)\n",
    "float(loss_value)"
   ]
  },
  {
   "cell_type": "code",
   "execution_count": null,
   "metadata": {},
   "outputs": [],
   "source": [
    "import matplotlib.pyplot as plt\n",
    "\n",
    "sample_rate = 16000\n",
    "\n",
    "frequency_diffs = np.linspace(0, 10, 100)\n",
    "\n",
    "def gen_sinusoid(frequency, amp, sample_rate, audio_len_sec):\n",
    "    t = np.linspace(0, audio_len_sec, int(audio_len_sec * sample_rate))\n",
    "    return amp * (np.sin(2 * np.pi * frequency * t))\n",
    "\n",
    "def loss_for_frequency_diff(frequency_diff):\n",
    "    f_0 = 440.0\n",
    "    f_1 = f_0 + frequency_diff\n",
    "    s_0 = gen_sinusoid(f_0, 1.0, sample_rate, 1.0)\n",
    "    s_1 = gen_sinusoid(f_1, 1.0, sample_rate, 1.0)\n",
    "    return jaxdsp.loss.spectral(s_0, s_1)"
   ]
  },
  {
   "cell_type": "code",
   "execution_count": null,
   "metadata": {},
   "outputs": [],
   "source": [
    "_ = plt.plot(frequency_diffs, [loss_for_frequency_diff(frequency_diff) for frequency_diff in frequency_diffs])"
   ]
  },
  {
   "cell_type": "code",
   "execution_count": null,
   "metadata": {},
   "outputs": [],
   "source": []
  }
 ],
 "metadata": {
  "kernelspec": {
   "display_name": "Python 3",
   "language": "python",
   "name": "python3"
  },
  "language_info": {
   "codemirror_mode": {
    "name": "ipython",
    "version": 3
   },
   "file_extension": ".py",
   "mimetype": "text/x-python",
   "name": "python",
   "nbconvert_exporter": "python",
   "pygments_lexer": "ipython3",
   "version": "3.9.1"
  }
 },
 "nbformat": 4,
 "nbformat_minor": 4
}
