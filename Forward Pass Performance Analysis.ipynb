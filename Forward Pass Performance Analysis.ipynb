{
 "cells": [
  {
   "cell_type": "code",
   "execution_count": null,
   "metadata": {},
   "outputs": [],
   "source": [
    "import jax.numpy as jnp\n",
    "from scipy import signal\n",
    "import numpy as np\n",
    "import time\n",
    "\n",
    "import sys\n",
    "sys.path.append('./processors')\n",
    "import fir_filter, iir_filter, clip, delay_line, lowpass_feedback_comb_filter as lbcf, allpass_filter, freeverb, serial_processors\n",
    "from train import train, evaluate, process"
   ]
  },
  {
   "cell_type": "markdown",
   "metadata": {},
   "source": [
    "### TODO\n",
    "* rename git:khiner/jax_audio_experiments to git:khiner/python_audio_processors with a `/processors/jax` directory\n",
    "* copy all (non-jax) audio processors in git:khiner/jupyter_notebooks here\n",
    "* publish `python_audio_processors` as a public library\n",
    "* delete all (now duplicated) processors in git:khiner/jupyter_notebooks, replace with `python_audio_processors` imports\n",
    "* move all existing analysis into a new `/analysis` directory here"
   ]
  },
  {
   "cell_type": "code",
   "execution_count": null,
   "metadata": {},
   "outputs": [],
   "source": [
    "from IPython.display import Audio\n",
    "from scipy.io.wavfile import read as readwav\n",
    "\n",
    "# sample_rate = 44_100\n",
    "# X = np.random.randn(sample_rate * 40)\n",
    "sample_rate, X = readwav('speech-male.wav')\n",
    "Audio(X, rate=sample_rate)"
   ]
  },
  {
   "cell_type": "code",
   "execution_count": null,
   "metadata": {},
   "outputs": [],
   "source": [
    "tail_length = 4 * sample_rate # let it ring out\n",
    "X = np.concatenate([X, np.zeros(tail_length)])\n",
    "\n",
    "presets = {\n",
    "    'flat_space': {\n",
    "        'wet': 0.3,\n",
    "        'dry': 0.7,\n",
    "        'width': 0.5,\n",
    "        'damp': 0.35,\n",
    "        'room_size': 1.04,\n",
    "    },\n",
    "    'expanding_space': {\n",
    "        'wet': 0.33,\n",
    "        'dry': 0.0,\n",
    "        'width': 0.5,\n",
    "        'damp': 0.2,\n",
    "        'room_size': 1.073,\n",
    "    },\n",
    "}\n",
    "\n",
    "processor = freeverb\n",
    "audio_for_preset = {preset_name: processor.tick_buffer({'params': params, 'state': processor.init_state()}, X) for preset_name, params in presets.items()}"
   ]
  },
  {
   "cell_type": "code",
   "execution_count": null,
   "metadata": {},
   "outputs": [],
   "source": [
    "output_for_preset = {preset_name: Audio(audio, rate=sample_rate) for preset_name, audio in audio_for_preset.items()}"
   ]
  },
  {
   "cell_type": "code",
   "execution_count": null,
   "metadata": {},
   "outputs": [],
   "source": [
    "output_for_preset['flat_space']"
   ]
  },
  {
   "cell_type": "code",
   "execution_count": null,
   "metadata": {},
   "outputs": [],
   "source": [
    "output_for_preset['expanding_space']"
   ]
  },
  {
   "cell_type": "markdown",
   "metadata": {},
   "source": [
    "## TODO\n",
    "* demonstrate single-sample tick\n",
    "* plot processing time normalized to real_time = 1.0\n",
    "* implement streaming processing (chunked)\n",
    "* compare to C++ performance\n",
    "* provide real-time control over parameters via js\n",
    "  - just in jupyter for now\n",
    "* perform inference real-time, displaying estimated parameter values via auto-controlled, disabled knobs\n",
    "  - interface idea: two separate reverb controllers, on top and bottom of screen, each with a knob for each param. You can mute or solo either reverb separately. At any point, you can hit the 'learn' button for either reverb. This will disable its knobs, and will then listening to the input & output audio of the other (still user-controllable) reverb and live-update its own parameters to try and match the other reverb parameter values.\n",
    "* check if URL is available: python_audio_processors.io\n",
    "  - otherwise, just use karlhiner.com/python_audio_processors\n",
    "* port to ^\n",
    "* charts for impulse response, magnitude spectrogram and phase, updating in real-time"
   ]
  },
  {
   "cell_type": "code",
   "execution_count": null,
   "metadata": {},
   "outputs": [],
   "source": []
  }
 ],
 "metadata": {
  "kernelspec": {
   "display_name": "Python 3",
   "language": "python",
   "name": "python3"
  },
  "language_info": {
   "codemirror_mode": {
    "name": "ipython",
    "version": 3
   },
   "file_extension": ".py",
   "mimetype": "text/x-python",
   "name": "python",
   "nbconvert_exporter": "python",
   "pygments_lexer": "ipython3",
   "version": "3.9.0"
  }
 },
 "nbformat": 4,
 "nbformat_minor": 4
}
